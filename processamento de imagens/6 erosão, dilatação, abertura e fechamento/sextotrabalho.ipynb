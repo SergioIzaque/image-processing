{
  "nbformat": 4,
  "nbformat_minor": 0,
  "metadata": {
    "colab": {
      "provenance": []
    },
    "kernelspec": {
      "name": "python3",
      "display_name": "Python 3"
    },
    "language_info": {
      "name": "python"
    }
  },
  "cells": [
    {
      "cell_type": "code",
      "execution_count": null,
      "metadata": {
        "id": "_6h_z3cIPw13"
      },
      "outputs": [],
      "source": [
        "import numpy as np\n",
        "import cv2\n",
        "import os"
      ]
    },
    {
      "cell_type": "markdown",
      "source": [
        "importanto as bibliotecas necessárias para o funcionamento do código."
      ],
      "metadata": {
        "id": "-pE23DQ0nKOC"
      }
    },
    {
      "cell_type": "code",
      "source": [
        "from google.colab import files\n",
        "uploaded = files.upload()\n",
        "for fn in uploaded.keys():\n",
        "  print('Arquivo carregador(\"name\") com tamanho de (length) bytes'.format(name=fn, length=len(uploaded[fn])))"
      ],
      "metadata": {
        "colab": {
          "base_uri": "https://localhost:8080/",
          "height": 90
        },
        "id": "kwckuDrjP30d",
        "outputId": "638fa3bc-d2f2-489d-88ac-c855f148f226"
      },
      "execution_count": null,
      "outputs": [
        {
          "output_type": "display_data",
          "data": {
            "text/plain": [
              "<IPython.core.display.HTML object>"
            ],
            "text/html": [
              "\n",
              "     <input type=\"file\" id=\"files-5244505e-d658-405d-ac89-20405d040ce2\" name=\"files[]\" multiple disabled\n",
              "        style=\"border:none\" />\n",
              "     <output id=\"result-5244505e-d658-405d-ac89-20405d040ce2\">\n",
              "      Upload widget is only available when the cell has been executed in the\n",
              "      current browser session. Please rerun this cell to enable.\n",
              "      </output>\n",
              "      <script>// Copyright 2017 Google LLC\n",
              "//\n",
              "// Licensed under the Apache License, Version 2.0 (the \"License\");\n",
              "// you may not use this file except in compliance with the License.\n",
              "// You may obtain a copy of the License at\n",
              "//\n",
              "//      http://www.apache.org/licenses/LICENSE-2.0\n",
              "//\n",
              "// Unless required by applicable law or agreed to in writing, software\n",
              "// distributed under the License is distributed on an \"AS IS\" BASIS,\n",
              "// WITHOUT WARRANTIES OR CONDITIONS OF ANY KIND, either express or implied.\n",
              "// See the License for the specific language governing permissions and\n",
              "// limitations under the License.\n",
              "\n",
              "/**\n",
              " * @fileoverview Helpers for google.colab Python module.\n",
              " */\n",
              "(function(scope) {\n",
              "function span(text, styleAttributes = {}) {\n",
              "  const element = document.createElement('span');\n",
              "  element.textContent = text;\n",
              "  for (const key of Object.keys(styleAttributes)) {\n",
              "    element.style[key] = styleAttributes[key];\n",
              "  }\n",
              "  return element;\n",
              "}\n",
              "\n",
              "// Max number of bytes which will be uploaded at a time.\n",
              "const MAX_PAYLOAD_SIZE = 100 * 1024;\n",
              "\n",
              "function _uploadFiles(inputId, outputId) {\n",
              "  const steps = uploadFilesStep(inputId, outputId);\n",
              "  const outputElement = document.getElementById(outputId);\n",
              "  // Cache steps on the outputElement to make it available for the next call\n",
              "  // to uploadFilesContinue from Python.\n",
              "  outputElement.steps = steps;\n",
              "\n",
              "  return _uploadFilesContinue(outputId);\n",
              "}\n",
              "\n",
              "// This is roughly an async generator (not supported in the browser yet),\n",
              "// where there are multiple asynchronous steps and the Python side is going\n",
              "// to poll for completion of each step.\n",
              "// This uses a Promise to block the python side on completion of each step,\n",
              "// then passes the result of the previous step as the input to the next step.\n",
              "function _uploadFilesContinue(outputId) {\n",
              "  const outputElement = document.getElementById(outputId);\n",
              "  const steps = outputElement.steps;\n",
              "\n",
              "  const next = steps.next(outputElement.lastPromiseValue);\n",
              "  return Promise.resolve(next.value.promise).then((value) => {\n",
              "    // Cache the last promise value to make it available to the next\n",
              "    // step of the generator.\n",
              "    outputElement.lastPromiseValue = value;\n",
              "    return next.value.response;\n",
              "  });\n",
              "}\n",
              "\n",
              "/**\n",
              " * Generator function which is called between each async step of the upload\n",
              " * process.\n",
              " * @param {string} inputId Element ID of the input file picker element.\n",
              " * @param {string} outputId Element ID of the output display.\n",
              " * @return {!Iterable<!Object>} Iterable of next steps.\n",
              " */\n",
              "function* uploadFilesStep(inputId, outputId) {\n",
              "  const inputElement = document.getElementById(inputId);\n",
              "  inputElement.disabled = false;\n",
              "\n",
              "  const outputElement = document.getElementById(outputId);\n",
              "  outputElement.innerHTML = '';\n",
              "\n",
              "  const pickedPromise = new Promise((resolve) => {\n",
              "    inputElement.addEventListener('change', (e) => {\n",
              "      resolve(e.target.files);\n",
              "    });\n",
              "  });\n",
              "\n",
              "  const cancel = document.createElement('button');\n",
              "  inputElement.parentElement.appendChild(cancel);\n",
              "  cancel.textContent = 'Cancel upload';\n",
              "  const cancelPromise = new Promise((resolve) => {\n",
              "    cancel.onclick = () => {\n",
              "      resolve(null);\n",
              "    };\n",
              "  });\n",
              "\n",
              "  // Wait for the user to pick the files.\n",
              "  const files = yield {\n",
              "    promise: Promise.race([pickedPromise, cancelPromise]),\n",
              "    response: {\n",
              "      action: 'starting',\n",
              "    }\n",
              "  };\n",
              "\n",
              "  cancel.remove();\n",
              "\n",
              "  // Disable the input element since further picks are not allowed.\n",
              "  inputElement.disabled = true;\n",
              "\n",
              "  if (!files) {\n",
              "    return {\n",
              "      response: {\n",
              "        action: 'complete',\n",
              "      }\n",
              "    };\n",
              "  }\n",
              "\n",
              "  for (const file of files) {\n",
              "    const li = document.createElement('li');\n",
              "    li.append(span(file.name, {fontWeight: 'bold'}));\n",
              "    li.append(span(\n",
              "        `(${file.type || 'n/a'}) - ${file.size} bytes, ` +\n",
              "        `last modified: ${\n",
              "            file.lastModifiedDate ? file.lastModifiedDate.toLocaleDateString() :\n",
              "                                    'n/a'} - `));\n",
              "    const percent = span('0% done');\n",
              "    li.appendChild(percent);\n",
              "\n",
              "    outputElement.appendChild(li);\n",
              "\n",
              "    const fileDataPromise = new Promise((resolve) => {\n",
              "      const reader = new FileReader();\n",
              "      reader.onload = (e) => {\n",
              "        resolve(e.target.result);\n",
              "      };\n",
              "      reader.readAsArrayBuffer(file);\n",
              "    });\n",
              "    // Wait for the data to be ready.\n",
              "    let fileData = yield {\n",
              "      promise: fileDataPromise,\n",
              "      response: {\n",
              "        action: 'continue',\n",
              "      }\n",
              "    };\n",
              "\n",
              "    // Use a chunked sending to avoid message size limits. See b/62115660.\n",
              "    let position = 0;\n",
              "    do {\n",
              "      const length = Math.min(fileData.byteLength - position, MAX_PAYLOAD_SIZE);\n",
              "      const chunk = new Uint8Array(fileData, position, length);\n",
              "      position += length;\n",
              "\n",
              "      const base64 = btoa(String.fromCharCode.apply(null, chunk));\n",
              "      yield {\n",
              "        response: {\n",
              "          action: 'append',\n",
              "          file: file.name,\n",
              "          data: base64,\n",
              "        },\n",
              "      };\n",
              "\n",
              "      let percentDone = fileData.byteLength === 0 ?\n",
              "          100 :\n",
              "          Math.round((position / fileData.byteLength) * 100);\n",
              "      percent.textContent = `${percentDone}% done`;\n",
              "\n",
              "    } while (position < fileData.byteLength);\n",
              "  }\n",
              "\n",
              "  // All done.\n",
              "  yield {\n",
              "    response: {\n",
              "      action: 'complete',\n",
              "    }\n",
              "  };\n",
              "}\n",
              "\n",
              "scope.google = scope.google || {};\n",
              "scope.google.colab = scope.google.colab || {};\n",
              "scope.google.colab._files = {\n",
              "  _uploadFiles,\n",
              "  _uploadFilesContinue,\n",
              "};\n",
              "})(self);\n",
              "</script> "
            ]
          },
          "metadata": {}
        },
        {
          "output_type": "stream",
          "name": "stdout",
          "text": [
            "Saving Sem título.png to Sem título.png\n",
            "Arquivo carregador(\"name\") com tamanho de (length) bytes\n"
          ]
        }
      ]
    },
    {
      "cell_type": "markdown",
      "source": [
        "aqui importa a imagem diretamente do google colab."
      ],
      "metadata": {
        "id": "6sf3qWEPnKqW"
      }
    },
    {
      "cell_type": "code",
      "source": [
        "filename = next(iter(uploaded))\n",
        "print(filename)"
      ],
      "metadata": {
        "colab": {
          "base_uri": "https://localhost:8080/"
        },
        "id": "XupMRw6kP40N",
        "outputId": "da317362-264c-4b2b-bf1d-243fc8246619"
      },
      "execution_count": null,
      "outputs": [
        {
          "output_type": "stream",
          "name": "stdout",
          "text": [
            "Sem título.png\n"
          ]
        }
      ]
    },
    {
      "cell_type": "markdown",
      "source": [
        "aqui guarda a imagem e mostra o nome dela."
      ],
      "metadata": {
        "id": "VuKiEUeDnMTn"
      }
    },
    {
      "cell_type": "code",
      "source": [
        "from matplotlib import pyplot as plt\n",
        "img = cv2.imread(filename)\n",
        "img = cv2.cvtColor(img, cv2.COLOR_BGR2GRAY)\n",
        "plt.imshow(img, cmap='gray')"
      ],
      "metadata": {
        "colab": {
          "base_uri": "https://localhost:8080/",
          "height": 447
        },
        "id": "AwT_WAXMP6aV",
        "outputId": "6f30b21b-c46b-4a66-af6d-b8892355c9ef"
      },
      "execution_count": null,
      "outputs": [
        {
          "output_type": "execute_result",
          "data": {
            "text/plain": [
              "<matplotlib.image.AxesImage at 0x7cde829f5360>"
            ]
          },
          "metadata": {},
          "execution_count": 72
        },
        {
          "output_type": "display_data",
          "data": {
            "text/plain": [
              "<Figure size 640x480 with 1 Axes>"
            ],
            "image/png": "[encoded data removed]"
          },
          "metadata": {}
        }
      ]
    },
    {
      "cell_type": "markdown",
      "source": [
        "aqui apresenta a imagem original, selecionei uma imagem pequena para melhor visualização."
      ],
      "metadata": {
        "id": "iqPfKwLwnO15"
      }
    },
    {
      "cell_type": "code",
      "source": [
        "threshold = 127\n",
        "img_binaria = np.where(img > threshold, 1, 0)"
      ],
      "metadata": {
        "id": "aEI-Wr8MVylk"
      },
      "execution_count": null,
      "outputs": []
    },
    {
      "cell_type": "markdown",
      "source": [
        "aqui transforma a imagem em binaria."
      ],
      "metadata": {
        "id": "e23ljQe6nOTk"
      }
    },
    {
      "cell_type": "code",
      "source": [
        "x = img_binaria.shape[0]\n",
        "y = img_binaria.shape[1]\n",
        "\n",
        "img1 = np.zeros((x, y), dtype=np.uint8)\n",
        "for a in range(0, x-1):\n",
        "    for b in range(0, y-1):\n",
        "        dilatacao = 0\n",
        "        img_vetor = [img_binaria[a, b], img_binaria[a+1, b], img_binaria[a, b+1], img_binaria[a+1, b+1]]\n",
        "        for valor in img_vetor:\n",
        "            if valor == 1:\n",
        "                dilatacao = 1\n",
        "        img1[a, b] = dilatacao"
      ],
      "metadata": {
        "id": "s_tekllBP78O"
      },
      "execution_count": null,
      "outputs": []
    },
    {
      "cell_type": "markdown",
      "source": [
        "aqui é onde acontece a dilatação binária"
      ],
      "metadata": {
        "id": "fyc2kubJnmPK"
      }
    },
    {
      "cell_type": "code",
      "source": [
        "x = img_binaria.shape[0]\n",
        "y = img_binaria.shape[1]\n",
        "\n",
        "img2 = np.zeros((x, y), dtype=np.uint8)\n",
        "for a in range(0, x-1):\n",
        "    for b in range(0, y-1):\n",
        "        erosao = 1\n",
        "        img_vetor = [img_binaria[a, b], img_binaria[a+1, b], img_binaria[a, b+1], img_binaria[a+1, b+1]]\n",
        "        for valor in img_vetor:\n",
        "            if valor == 0:\n",
        "                erosao = 0\n",
        "        img2[a, b] = erosao"
      ],
      "metadata": {
        "id": "Z-DBM9p0TQ9i"
      },
      "execution_count": null,
      "outputs": []
    },
    {
      "cell_type": "markdown",
      "source": [
        "e aqui é onde acontece a erosão binária"
      ],
      "metadata": {
        "id": "UVjUwE_KhVdO"
      }
    },
    {
      "cell_type": "code",
      "source": [
        "img3 = np.zeros((x, y), dtype=np.uint8)\n",
        "for a in range(0, x-1):\n",
        "    for b in range(0, y-1):\n",
        "        erosao = 1\n",
        "        img_vetor = [img_binaria[a, b], img_binaria[a+1, b], img_binaria[a, b+1], img_binaria[a+1, b+1]]\n",
        "        for valor in img_vetor:\n",
        "            if valor == 0:\n",
        "                erosao = 0\n",
        "        img3[a, b] = erosao\n",
        "\n",
        "img4 = np.zeros((x, y), dtype=np.uint8)\n",
        "for a in range(0, x-1):\n",
        "    for b in range(0, y-1):\n",
        "        dilatacao = 0\n",
        "        img_vetor = [img3[a, b], img3[a+1, b], img3[a, b+1], img3[a+1, b+1]]\n",
        "        for valor in img_vetor:\n",
        "            if valor == 1:\n",
        "                dilatacao = 1\n",
        "        img4[a, b] = dilatacao"
      ],
      "metadata": {
        "id": "NyKRwVplYY6_"
      },
      "execution_count": null,
      "outputs": []
    },
    {
      "cell_type": "markdown",
      "source": [
        "aqui aplica a abertura, que é a erosão + dilatação"
      ],
      "metadata": {
        "id": "O6vYXZFJhefk"
      }
    },
    {
      "cell_type": "code",
      "source": [
        "img5 = np.zeros((x, y), dtype=np.uint8)\n",
        "for a in range(0, x-1):\n",
        "    for b in range(0, y-1):\n",
        "        dilatacao = 0\n",
        "        img_vetor = [img_binaria[a, b], img_binaria[a+1, b], img_binaria[a, b+1], img_binaria[a+1, b+1]]\n",
        "        for valor in img_vetor:\n",
        "            if valor == 1:\n",
        "                dilatacao = 1\n",
        "        img5[a, b] = dilatacao\n",
        "\n",
        "img6 = np.zeros((x, y), dtype=np.uint8)\n",
        "for a in range(0, x-1):\n",
        "    for b in range(0, y-1):\n",
        "        erosao = 1\n",
        "        img_vetor = [img5[a, b], img5[a+1, b], img5[a, b+1], img5[a+1, b+1]]\n",
        "        for valor in img_vetor:\n",
        "            if valor == 0:\n",
        "                erosao = 0\n",
        "        img6[a, b] = erosao"
      ],
      "metadata": {
        "id": "IE-kU417aAHW"
      },
      "execution_count": null,
      "outputs": []
    },
    {
      "cell_type": "markdown",
      "source": [
        "e aqui aplica o fechamento, que é a dilatação + erosão"
      ],
      "metadata": {
        "id": "VlOY-xL8hkcG"
      }
    },
    {
      "cell_type": "code",
      "source": [
        "plt.figure(figsize=(14, 10))\n",
        "\n",
        "plt.subplot(2, 4, 1)\n",
        "plt.imshow(img * 255, cmap='gray')\n",
        "plt.title(\"Imagem Original\")\n",
        "plt.axis('off')\n",
        "\n",
        "plt.subplot(2, 4, 2)\n",
        "plt.imshow(img_binaria * 255, cmap='gray')\n",
        "plt.title(\"Imagem Binarizada\")\n",
        "plt.axis('off')\n",
        "\n",
        "plt.subplot(2, 4, 3)\n",
        "plt.imshow(img1 * 255, cmap='gray')\n",
        "plt.title(\"Dilatação\")\n",
        "plt.axis('off')\n",
        "\n",
        "plt.subplot(2, 4, 4)\n",
        "plt.imshow(img2 * 255, cmap='gray')\n",
        "plt.title(\"Erosão\")\n",
        "plt.axis('off')\n",
        "\n",
        "plt.subplot(2, 4, 5)\n",
        "plt.imshow(img3 * 255, cmap='gray')\n",
        "plt.title(\"Abertura (Erosão + Dilatação)\")\n",
        "plt.axis('off')\n",
        "\n",
        "plt.subplot(2, 4, 6)\n",
        "plt.imshow(img4 * 255, cmap='gray')\n",
        "plt.title(\"Abertura Final\")\n",
        "plt.axis('off')\n",
        "\n",
        "plt.subplot(2, 4, 7)\n",
        "plt.imshow(img5 * 255, cmap='gray')\n",
        "plt.title(\"Fechamento (Dilatação + Erosão)\")\n",
        "plt.axis('off')\n",
        "\n",
        "plt.subplot(2, 4, 8)\n",
        "plt.imshow(img6 * 255, cmap='gray')\n",
        "plt.title(\"Fechamento Final\")\n",
        "plt.axis('off')"
      ],
      "metadata": {
        "colab": {
          "base_uri": "https://localhost:8080/",
          "height": 746
        },
        "id": "l-Qhsr-qYuP-",
        "outputId": "9632d039-9ad5-4615-ff22-0347d7629276"
      },
      "execution_count": null,
      "outputs": [
        {
          "output_type": "execute_result",
          "data": {
            "text/plain": [
              "(-0.5, 33.5, 35.5, -0.5)"
            ]
          },
          "metadata": {},
          "execution_count": 78
        },
        {
          "output_type": "display_data",
          "data": {
            "text/plain": [
              "<Figure size 1400x1000 with 8 Axes>"
            ],
            "image/png": "[encoded data removed]"
          },
          "metadata": {}
        }
      ]
    },
    {
      "cell_type": "markdown",
      "source": [
        "aqui apresenta as imagens e os seus devidos resultados."
      ],
      "metadata": {
        "id": "8njSp3dthqFN"
      }
    }
  ]
}